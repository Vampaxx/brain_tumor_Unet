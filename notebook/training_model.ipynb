{
 "cells": [
  {
   "cell_type": "code",
   "execution_count": 1,
   "metadata": {},
   "outputs": [],
   "source": [
    "import os\n",
    "import matplotlib.pyplot as plt"
   ]
  },
  {
   "cell_type": "code",
   "execution_count": 2,
   "metadata": {},
   "outputs": [
    {
     "data": {
      "text/plain": [
       "'c:\\\\Users\\\\Asus\\\\vs_code\\\\brain_tumor_Unet\\\\notebook'"
      ]
     },
     "execution_count": 2,
     "metadata": {},
     "output_type": "execute_result"
    }
   ],
   "source": [
    "%pwd"
   ]
  },
  {
   "cell_type": "code",
   "execution_count": 3,
   "metadata": {},
   "outputs": [],
   "source": [
    "os.chdir(\"../\")"
   ]
  },
  {
   "cell_type": "code",
   "execution_count": 4,
   "metadata": {},
   "outputs": [
    {
     "data": {
      "text/plain": [
       "'c:\\\\Users\\\\Asus\\\\vs_code\\\\brain_tumor_Unet'"
      ]
     },
     "execution_count": 4,
     "metadata": {},
     "output_type": "execute_result"
    }
   ],
   "source": [
    "%pwd"
   ]
  },
  {
   "cell_type": "code",
   "execution_count": 5,
   "metadata": {},
   "outputs": [],
   "source": [
    "from dataclasses import dataclass\n",
    "from pathlib import Path\n",
    "import tensorflow as tf\n",
    "\n",
    "\n",
    "@dataclass(frozen=True)\n",
    "class TrainigConfig:\n",
    "    root_dir                : Path\n",
    "    trained_model_path      : Path\n",
    "    updated_base_model_path : Path\n",
    "    data_for_pipeline       : tf.data.Dataset\n",
    "    params_epochs           : int\n",
    "    params_batch_size       : int\n",
    "    params_is_augumentation : bool\n",
    "    params_image_size       : list\n",
    "\n",
    "@dataclass(frozen=True)\n",
    "class PrepareCallbacksConfig:\n",
    "\n",
    "    root_dir                    : Path\n",
    "    tensorboard_root_log_dir    : Path\n",
    "    checkpoint_model_filepath   : Path"
   ]
  },
  {
   "cell_type": "code",
   "execution_count": 43,
   "metadata": {},
   "outputs": [],
   "source": [
    "import os\n",
    "import pandas as pd\n",
    "import tensorflow as tf\n",
    "from tensorflow.keras.callbacks import EarlyStopping\n",
    "from src.brain_tumor.logger import logging\n",
    "from src.brain_tumor.components.prepare_callbacks import PrepareCallback\n",
    "from src.brain_tumor.entity.config_entity import PreprocessingConfig\n",
    "from src.brain_tumor.utils.common import convert_file_into_path\n",
    "from src.brain_tumor.utils.data_processing import (mappable_function,mapping_fixup)"
   ]
  },
  {
   "cell_type": "code",
   "execution_count": 7,
   "metadata": {},
   "outputs": [],
   "source": [
    "from src.brain_tumor.config.configuration import ConfugarationManager"
   ]
  },
  {
   "cell_type": "code",
   "execution_count": 8,
   "metadata": {},
   "outputs": [],
   "source": [
    "class DataProcessing:\n",
    "\n",
    "    def __init__(self, config: PreprocessingConfig):\n",
    "        self.config_ = config\n",
    "\n",
    "    def get_processing_data_path(self, dataset_type: str):\n",
    "        self.dataset_type   = dataset_type\n",
    "        image_path          = self.config_.image_path\n",
    "        mask_path           = self.config_.mask_path\n",
    "        logging.info('preprocessing initialized')\n",
    "\n",
    "        data_file_path = \"\"\n",
    "\n",
    "        if self.dataset_type == 'train':\n",
    "            data_file_path = self.config_.train_data_path\n",
    "        elif self.dataset_type == 'test':\n",
    "            data_file_path = self.config_.test_data_path\n",
    "        elif self.dataset_type == 'val':\n",
    "            data_file_path = self.config_.val_data_path\n",
    "        else:\n",
    "            raise ValueError(\"Invalid data_type. Use 'train', 'test', or 'val'.\")\n",
    "        logging.info(f'{self.dataset_type} file is created')\n",
    "\n",
    "        self.image_file, self.mask_file = convert_file_into_path(data_file_path=data_file_path,\n",
    "                                                                image_path=image_path,\n",
    "                                                                mask_path=mask_path)\n",
    "\n",
    "        return (self.image_file, self.mask_file)\n",
    "    \n",
    "    def get_processing_pipeline(self,buffer_size,batch_size):\n",
    "        self.buffer_size    = buffer_size\n",
    "        self.batch_size     = batch_size\n",
    "        \n",
    "        data        = tf.data.Dataset.list_files(self.image_file)\n",
    "        data        = data.shuffle(buffer_size=self.buffer_size,reshuffle_each_iteration=False)\n",
    "        data        = data.map(mappable_function)\n",
    "        data        = data.map(mapping_fixup)\n",
    "        data        = data.batch(self.batch_size)\n",
    "        data        = data.prefetch(tf.data.AUTOTUNE)\n",
    "        \n",
    "        return data"
   ]
  },
  {
   "cell_type": "code",
   "execution_count": 9,
   "metadata": {},
   "outputs": [],
   "source": [
    "config               = ConfugarationManager()\n",
    "processing_path      = config.get_data_processing_config()\n",
    "data_processing_obj  = DataProcessing(config=processing_path)"
   ]
  },
  {
   "cell_type": "code",
   "execution_count": 10,
   "metadata": {},
   "outputs": [],
   "source": [
    "data_processing_file = data_processing_obj.get_processing_data_path('train')\n",
    "data                 = data_processing_obj.get_processing_pipeline(buffer_size=1245,batch_size=32)"
   ]
  },
  {
   "cell_type": "code",
   "execution_count": 11,
   "metadata": {},
   "outputs": [],
   "source": [
    "from src.brain_tumor.utils.common import read_yaml,create_directories,convert_file_into_path\n",
    "from src.brain_tumor.constants import *\n",
    "from src.brain_tumor.entity.config_entity import (DataIngestionConfig,\n",
    "                                                  PrepareBaseModelConfig,\n",
    "                                                  PrepareCallbacksConfig,\n",
    "                                                  PreprocessingConfig)\n",
    "from src.brain_tumor.utils.loss_functions import *\n"
   ]
  },
  {
   "cell_type": "code",
   "execution_count": 12,
   "metadata": {},
   "outputs": [],
   "source": [
    "class ConfugarationManager:#(DataProcessing):\n",
    "\n",
    "    def __init__(self,\n",
    "                 config_file_path=CONFIG_FILE_PATH,\n",
    "                 params_file_path=PARAMS_FILE_PATH):\n",
    "        #super().__init__(config=self.get_data_processing_config())\n",
    "        \n",
    "        # Assuming read_yaml and create_directories are custom functions in your module\n",
    "        self.config_ = read_yaml(config_file_path)\n",
    "        self.params_ = read_yaml(params_file_path)\n",
    "        create_directories([self.config_.artifacts_root])\n",
    "        \n",
    "        self.data_processing = DataProcessing(config=self.get_data_processing_config())\n",
    "\n",
    "\n",
    "    def get_data_ingestion_config(self) -> DataIngestionConfig:\n",
    "\n",
    "        config_ = self.config_.data_ingestion \n",
    "        create_directories([config_.root_dir])\n",
    "        self.data_ingestion_config = DataIngestionConfig(\n",
    "            train_data_path = Path(config_.train_path),\n",
    "            test_data_path  = Path(config_.test_path), \n",
    "            val_data_path   = Path(config_.val_path),\n",
    "            raw_data_path   = Path(config_.csv_file_path),\n",
    "            image_path      = Path(config_.image_path),\n",
    "            mask_path       = Path(config_.mask_path))\n",
    "            \n",
    "        return self.data_ingestion_config \n",
    "    \n",
    "\n",
    "    def get_prepare_base_model_config(self) -> PrepareBaseModelConfig:\n",
    "\n",
    "        config_ = self.config_.prepare_base_model \n",
    "        create_directories([config_.root_dir])\n",
    "        prepare_base_model_Config   = PrepareBaseModelConfig(\n",
    "            root_dir                = Path (config_.root_dir),\n",
    "            base_model_path         = Path (config_.base_model_path), \n",
    "            updated_base_model_path = Path (config_.updated_base_model_path),\n",
    "            params_image_size       = list (self.params_.IMAGE_SIZE),\n",
    "            params_mask_size        = list (self.params_.MASK_SIZE),\n",
    "            params_learning_rate    = float(self.params_.LEARNING_RATE))\n",
    "                \n",
    "        return prepare_base_model_Config\n",
    "    \n",
    "\n",
    "    def get_data_processing_config(self) -> PreprocessingConfig:\n",
    "        config_                     = self.config_.data_ingestion\n",
    "        self.data_processing_config = PreprocessingConfig(\n",
    "            train_data_path = Path(config_.train_path),\n",
    "            test_data_path  = Path(config_.test_path), \n",
    "            val_data_path   = Path(config_.val_path),\n",
    "            raw_data_path   = Path(config_.csv_file_path),\n",
    "            image_path      = Path(config_.image_path),\n",
    "            mask_path       = Path(config_.mask_path))\n",
    "        return self.data_processing_config\n",
    "    \n",
    "    \n",
    "    def get_prepare_callback_config(self) -> PrepareCallbacksConfig:\n",
    "        config_         = self.config_.prepare_callbacks\n",
    "        model_ckpt_dir  = os.path.dirname(config_.checkpoint_model_filepath)\n",
    "        create_directories([Path(model_ckpt_dir),\n",
    "                            Path(config_.tensorboard_root_log_dir)])\n",
    "        prepare_callbacks_config    = PrepareCallbacksConfig(\n",
    "            root_dir                    = Path(config_.root_dir),\n",
    "            tensorboard_root_log_dir    = Path(config_.tensorboard_root_log_dir),\n",
    "            checkpoint_model_filepath   = Path(config_.checkpoint_model_filepath))\n",
    "        \n",
    "        return prepare_callbacks_config\n",
    "    \n",
    "\n",
    "    def get_training_config(self,dataset_type: str) -> TrainigConfig:\n",
    "        self.dataset_type               = dataset_type\n",
    "        training                        = self.config_.training \n",
    "        prepare_base_model              = self.config_.prepare_base_model\n",
    "        params                          = self.params_\n",
    "        training_image, training_mask   = self.data_processing.get_processing_data_path(self.dataset_type)\n",
    "        create_directories([Path(training.root_dir)])\n",
    "        \n",
    "        training_config                 = TrainigConfig(\n",
    "            root_dir                        = Path(training.root_dir),\n",
    "            trained_model_path              = Path(training.trained_model_path),\n",
    "            updated_base_model_path         = Path(prepare_base_model.updated_base_model_path),\n",
    "            data_for_pipeline               = self.data_processing.get_processing_pipeline(buffer_size=params.BUFFER_SIZE,\n",
    "                                                                                        batch_size=params.BATCH_SIZE),\n",
    "            params_epochs                   = params.EPOCHS,\n",
    "            params_batch_size               = params.BATCH_SIZE,\n",
    "            params_is_augumentation         = params.AUGMENTATION,\n",
    "            params_image_size               = params.IMAGE_SIZE)\n",
    "        \n",
    "        return training_config"
   ]
  },
  {
   "cell_type": "code",
   "execution_count": 13,
   "metadata": {},
   "outputs": [],
   "source": [
    "from src.brain_tumor.utils.loss_functions import *"
   ]
  },
  {
   "cell_type": "code",
   "execution_count": 68,
   "metadata": {},
   "outputs": [],
   "source": [
    "class Training(ConfugarationManager):\n",
    "\n",
    "    def __init__(self,config:TrainigConfig):\n",
    "        super().__init__()\n",
    "        self.config     = config\n",
    "    \n",
    "    def get_base_model(self):\n",
    "        self.model = tf.keras.models.load_model(filepath=self.config.updated_base_model_path,\n",
    "                                                custom_objects={\n",
    "                                                        'dice_coefficient_loss' : dice_coefficient_loss,\n",
    "                                                        'iou'                   : iou,\n",
    "                                                        'dice_coefficient'      : dice_coefficient\n",
    "                                               })\n",
    "    @staticmethod\n",
    "    def save_model(path: Path, model: tf.keras.Model):\n",
    "        model.save(path)\n",
    "    \n",
    "\n",
    "    def train(self, callback_list: list):\n",
    "        early_stop = EarlyStopping(monitor='val_loss',patience=10,verbose=1)\n",
    "        self.model.fit(            \n",
    "            self.get_training_config('train').data_for_pipeline,\n",
    "            validation_data = self.get_training_config('test').data_for_pipeline,\n",
    "            epochs          = self.config.params_epochs,\n",
    "            callbacks       = [callback_list,early_stop])\n",
    "\n",
    "        self.save_model(\n",
    "            path=self.config.trained_model_path,\n",
    "            model=self.model)\n",
    "        \n",
    "    "
   ]
  },
  {
   "cell_type": "code",
   "execution_count": 69,
   "metadata": {},
   "outputs": [],
   "source": [
    "config_for_training     = ConfugarationManager()\n",
    "trainig_config          = config_for_training.get_training_config(dataset_type='train')"
   ]
  },
  {
   "cell_type": "code",
   "execution_count": 70,
   "metadata": {},
   "outputs": [],
   "source": [
    "training = Training(config=trainig_config)\n",
    "trainig_model = training.get_base_model()"
   ]
  },
  {
   "cell_type": "code",
   "execution_count": 71,
   "metadata": {},
   "outputs": [],
   "source": [
    "prepare_callbacks_config = config_for_training.get_prepare_callback_config()\n",
    "prepare_callbacks = PrepareCallback(config=prepare_callbacks_config)\n",
    "callback_list = prepare_callbacks.get_tb_ckpt_callbacks()"
   ]
  },
  {
   "cell_type": "code",
   "execution_count": 72,
   "metadata": {},
   "outputs": [
    {
     "name": "stdout",
     "output_type": "stream",
     "text": [
      "Epoch 1/100\n",
      "99/99 [==============================] - 39s 372ms/step - loss: -0.0514 - binary_accuracy: 0.8198 - iou: 0.0270 - dice_coefficient: 0.0516 - val_loss: -0.0197 - val_binary_accuracy: 0.7770 - val_iou: 0.0104 - val_dice_coefficient: 0.0200\n",
      "Epoch 2/100\n",
      "67/99 [===================>..........] - ETA: 8s - loss: -0.0867 - binary_accuracy: 0.9370 - iou: 0.0460 - dice_coefficient: 0.0867"
     ]
    },
    {
     "ename": "KeyboardInterrupt",
     "evalue": "",
     "output_type": "error",
     "traceback": [
      "\u001b[1;31m---------------------------------------------------------------------------\u001b[0m",
      "\u001b[1;31mKeyboardInterrupt\u001b[0m                         Traceback (most recent call last)",
      "\u001b[1;32mc:\\Users\\Asus\\vs_code\\brain_tumor_Unet\\notebook\\training_model.ipynb Cell 18\u001b[0m line \u001b[0;36m1\n\u001b[1;32m----> <a href='vscode-notebook-cell:/c%3A/Users/Asus/vs_code/brain_tumor_Unet/notebook/training_model.ipynb#X63sZmlsZQ%3D%3D?line=0'>1</a>\u001b[0m training\u001b[39m.\u001b[39;49mtrain(callback_list\u001b[39m=\u001b[39;49mcallback_list)\n",
      "\u001b[1;32mc:\\Users\\Asus\\vs_code\\brain_tumor_Unet\\notebook\\training_model.ipynb Cell 18\u001b[0m line \u001b[0;36m2\n\u001b[0;32m     <a href='vscode-notebook-cell:/c%3A/Users/Asus/vs_code/brain_tumor_Unet/notebook/training_model.ipynb#X63sZmlsZQ%3D%3D?line=18'>19</a>\u001b[0m \u001b[39mdef\u001b[39;00m \u001b[39mtrain\u001b[39m(\u001b[39mself\u001b[39m, callback_list: \u001b[39mlist\u001b[39m):\n\u001b[0;32m     <a href='vscode-notebook-cell:/c%3A/Users/Asus/vs_code/brain_tumor_Unet/notebook/training_model.ipynb#X63sZmlsZQ%3D%3D?line=19'>20</a>\u001b[0m     early_stop \u001b[39m=\u001b[39m EarlyStopping(monitor\u001b[39m=\u001b[39m\u001b[39m'\u001b[39m\u001b[39mval_loss\u001b[39m\u001b[39m'\u001b[39m,patience\u001b[39m=\u001b[39m\u001b[39m10\u001b[39m,verbose\u001b[39m=\u001b[39m\u001b[39m1\u001b[39m)\n\u001b[1;32m---> <a href='vscode-notebook-cell:/c%3A/Users/Asus/vs_code/brain_tumor_Unet/notebook/training_model.ipynb#X63sZmlsZQ%3D%3D?line=20'>21</a>\u001b[0m     \u001b[39mself\u001b[39;49m\u001b[39m.\u001b[39;49mmodel\u001b[39m.\u001b[39;49mfit(            \n\u001b[0;32m     <a href='vscode-notebook-cell:/c%3A/Users/Asus/vs_code/brain_tumor_Unet/notebook/training_model.ipynb#X63sZmlsZQ%3D%3D?line=21'>22</a>\u001b[0m         \u001b[39mself\u001b[39;49m\u001b[39m.\u001b[39;49mget_training_config(\u001b[39m'\u001b[39;49m\u001b[39mtrain\u001b[39;49m\u001b[39m'\u001b[39;49m)\u001b[39m.\u001b[39;49mdata_for_pipeline,\n\u001b[0;32m     <a href='vscode-notebook-cell:/c%3A/Users/Asus/vs_code/brain_tumor_Unet/notebook/training_model.ipynb#X63sZmlsZQ%3D%3D?line=22'>23</a>\u001b[0m         validation_data \u001b[39m=\u001b[39;49m \u001b[39mself\u001b[39;49m\u001b[39m.\u001b[39;49mget_training_config(\u001b[39m'\u001b[39;49m\u001b[39mtest\u001b[39;49m\u001b[39m'\u001b[39;49m)\u001b[39m.\u001b[39;49mdata_for_pipeline,\n\u001b[0;32m     <a href='vscode-notebook-cell:/c%3A/Users/Asus/vs_code/brain_tumor_Unet/notebook/training_model.ipynb#X63sZmlsZQ%3D%3D?line=23'>24</a>\u001b[0m         epochs          \u001b[39m=\u001b[39;49m \u001b[39mself\u001b[39;49m\u001b[39m.\u001b[39;49mconfig\u001b[39m.\u001b[39;49mparams_epochs,\n\u001b[0;32m     <a href='vscode-notebook-cell:/c%3A/Users/Asus/vs_code/brain_tumor_Unet/notebook/training_model.ipynb#X63sZmlsZQ%3D%3D?line=24'>25</a>\u001b[0m         callbacks       \u001b[39m=\u001b[39;49m [callback_list,early_stop])\n\u001b[0;32m     <a href='vscode-notebook-cell:/c%3A/Users/Asus/vs_code/brain_tumor_Unet/notebook/training_model.ipynb#X63sZmlsZQ%3D%3D?line=26'>27</a>\u001b[0m     \u001b[39mself\u001b[39m\u001b[39m.\u001b[39msave_model(\n\u001b[0;32m     <a href='vscode-notebook-cell:/c%3A/Users/Asus/vs_code/brain_tumor_Unet/notebook/training_model.ipynb#X63sZmlsZQ%3D%3D?line=27'>28</a>\u001b[0m         path\u001b[39m=\u001b[39m\u001b[39mself\u001b[39m\u001b[39m.\u001b[39mconfig\u001b[39m.\u001b[39mtrained_model_path,\n\u001b[0;32m     <a href='vscode-notebook-cell:/c%3A/Users/Asus/vs_code/brain_tumor_Unet/notebook/training_model.ipynb#X63sZmlsZQ%3D%3D?line=28'>29</a>\u001b[0m         model\u001b[39m=\u001b[39m\u001b[39mself\u001b[39m\u001b[39m.\u001b[39mmodel)\n",
      "File \u001b[1;32mc:\\Users\\Asus\\anaconda3\\envs\\brain\\lib\\site-packages\\keras\\utils\\traceback_utils.py:65\u001b[0m, in \u001b[0;36mfilter_traceback.<locals>.error_handler\u001b[1;34m(*args, **kwargs)\u001b[0m\n\u001b[0;32m     63\u001b[0m filtered_tb \u001b[39m=\u001b[39m \u001b[39mNone\u001b[39;00m\n\u001b[0;32m     64\u001b[0m \u001b[39mtry\u001b[39;00m:\n\u001b[1;32m---> 65\u001b[0m     \u001b[39mreturn\u001b[39;00m fn(\u001b[39m*\u001b[39margs, \u001b[39m*\u001b[39m\u001b[39m*\u001b[39mkwargs)\n\u001b[0;32m     66\u001b[0m \u001b[39mexcept\u001b[39;00m \u001b[39mException\u001b[39;00m \u001b[39mas\u001b[39;00m e:\n\u001b[0;32m     67\u001b[0m     filtered_tb \u001b[39m=\u001b[39m _process_traceback_frames(e\u001b[39m.\u001b[39m__traceback__)\n",
      "File \u001b[1;32mc:\\Users\\Asus\\anaconda3\\envs\\brain\\lib\\site-packages\\keras\\engine\\training.py:1564\u001b[0m, in \u001b[0;36mModel.fit\u001b[1;34m(self, x, y, batch_size, epochs, verbose, callbacks, validation_split, validation_data, shuffle, class_weight, sample_weight, initial_epoch, steps_per_epoch, validation_steps, validation_batch_size, validation_freq, max_queue_size, workers, use_multiprocessing)\u001b[0m\n\u001b[0;32m   1556\u001b[0m \u001b[39mwith\u001b[39;00m tf\u001b[39m.\u001b[39mprofiler\u001b[39m.\u001b[39mexperimental\u001b[39m.\u001b[39mTrace(\n\u001b[0;32m   1557\u001b[0m     \u001b[39m\"\u001b[39m\u001b[39mtrain\u001b[39m\u001b[39m\"\u001b[39m,\n\u001b[0;32m   1558\u001b[0m     epoch_num\u001b[39m=\u001b[39mepoch,\n\u001b[1;32m   (...)\u001b[0m\n\u001b[0;32m   1561\u001b[0m     _r\u001b[39m=\u001b[39m\u001b[39m1\u001b[39m,\n\u001b[0;32m   1562\u001b[0m ):\n\u001b[0;32m   1563\u001b[0m     callbacks\u001b[39m.\u001b[39mon_train_batch_begin(step)\n\u001b[1;32m-> 1564\u001b[0m     tmp_logs \u001b[39m=\u001b[39m \u001b[39mself\u001b[39;49m\u001b[39m.\u001b[39;49mtrain_function(iterator)\n\u001b[0;32m   1565\u001b[0m     \u001b[39mif\u001b[39;00m data_handler\u001b[39m.\u001b[39mshould_sync:\n\u001b[0;32m   1566\u001b[0m         context\u001b[39m.\u001b[39masync_wait()\n",
      "File \u001b[1;32mc:\\Users\\Asus\\anaconda3\\envs\\brain\\lib\\site-packages\\tensorflow\\python\\util\\traceback_utils.py:150\u001b[0m, in \u001b[0;36mfilter_traceback.<locals>.error_handler\u001b[1;34m(*args, **kwargs)\u001b[0m\n\u001b[0;32m    148\u001b[0m filtered_tb \u001b[39m=\u001b[39m \u001b[39mNone\u001b[39;00m\n\u001b[0;32m    149\u001b[0m \u001b[39mtry\u001b[39;00m:\n\u001b[1;32m--> 150\u001b[0m   \u001b[39mreturn\u001b[39;00m fn(\u001b[39m*\u001b[39margs, \u001b[39m*\u001b[39m\u001b[39m*\u001b[39mkwargs)\n\u001b[0;32m    151\u001b[0m \u001b[39mexcept\u001b[39;00m \u001b[39mException\u001b[39;00m \u001b[39mas\u001b[39;00m e:\n\u001b[0;32m    152\u001b[0m   filtered_tb \u001b[39m=\u001b[39m _process_traceback_frames(e\u001b[39m.\u001b[39m__traceback__)\n",
      "File \u001b[1;32mc:\\Users\\Asus\\anaconda3\\envs\\brain\\lib\\site-packages\\tensorflow\\python\\eager\\def_function.py:915\u001b[0m, in \u001b[0;36mFunction.__call__\u001b[1;34m(self, *args, **kwds)\u001b[0m\n\u001b[0;32m    912\u001b[0m compiler \u001b[39m=\u001b[39m \u001b[39m\"\u001b[39m\u001b[39mxla\u001b[39m\u001b[39m\"\u001b[39m \u001b[39mif\u001b[39;00m \u001b[39mself\u001b[39m\u001b[39m.\u001b[39m_jit_compile \u001b[39melse\u001b[39;00m \u001b[39m\"\u001b[39m\u001b[39mnonXla\u001b[39m\u001b[39m\"\u001b[39m\n\u001b[0;32m    914\u001b[0m \u001b[39mwith\u001b[39;00m OptionalXlaContext(\u001b[39mself\u001b[39m\u001b[39m.\u001b[39m_jit_compile):\n\u001b[1;32m--> 915\u001b[0m   result \u001b[39m=\u001b[39m \u001b[39mself\u001b[39m\u001b[39m.\u001b[39m_call(\u001b[39m*\u001b[39margs, \u001b[39m*\u001b[39m\u001b[39m*\u001b[39mkwds)\n\u001b[0;32m    917\u001b[0m new_tracing_count \u001b[39m=\u001b[39m \u001b[39mself\u001b[39m\u001b[39m.\u001b[39mexperimental_get_tracing_count()\n\u001b[0;32m    918\u001b[0m without_tracing \u001b[39m=\u001b[39m (tracing_count \u001b[39m==\u001b[39m new_tracing_count)\n",
      "File \u001b[1;32mc:\\Users\\Asus\\anaconda3\\envs\\brain\\lib\\site-packages\\tensorflow\\python\\eager\\def_function.py:947\u001b[0m, in \u001b[0;36mFunction._call\u001b[1;34m(self, *args, **kwds)\u001b[0m\n\u001b[0;32m    944\u001b[0m   \u001b[39mself\u001b[39m\u001b[39m.\u001b[39m_lock\u001b[39m.\u001b[39mrelease()\n\u001b[0;32m    945\u001b[0m   \u001b[39m# In this case we have created variables on the first call, so we run the\u001b[39;00m\n\u001b[0;32m    946\u001b[0m   \u001b[39m# defunned version which is guaranteed to never create variables.\u001b[39;00m\n\u001b[1;32m--> 947\u001b[0m   \u001b[39mreturn\u001b[39;00m \u001b[39mself\u001b[39m\u001b[39m.\u001b[39m_stateless_fn(\u001b[39m*\u001b[39margs, \u001b[39m*\u001b[39m\u001b[39m*\u001b[39mkwds)  \u001b[39m# pylint: disable=not-callable\u001b[39;00m\n\u001b[0;32m    948\u001b[0m \u001b[39melif\u001b[39;00m \u001b[39mself\u001b[39m\u001b[39m.\u001b[39m_stateful_fn \u001b[39mis\u001b[39;00m \u001b[39mnot\u001b[39;00m \u001b[39mNone\u001b[39;00m:\n\u001b[0;32m    949\u001b[0m   \u001b[39m# Release the lock early so that multiple threads can perform the call\u001b[39;00m\n\u001b[0;32m    950\u001b[0m   \u001b[39m# in parallel.\u001b[39;00m\n\u001b[0;32m    951\u001b[0m   \u001b[39mself\u001b[39m\u001b[39m.\u001b[39m_lock\u001b[39m.\u001b[39mrelease()\n",
      "File \u001b[1;32mc:\\Users\\Asus\\anaconda3\\envs\\brain\\lib\\site-packages\\tensorflow\\python\\eager\\function.py:2496\u001b[0m, in \u001b[0;36mFunction.__call__\u001b[1;34m(self, *args, **kwargs)\u001b[0m\n\u001b[0;32m   2493\u001b[0m \u001b[39mwith\u001b[39;00m \u001b[39mself\u001b[39m\u001b[39m.\u001b[39m_lock:\n\u001b[0;32m   2494\u001b[0m   (graph_function,\n\u001b[0;32m   2495\u001b[0m    filtered_flat_args) \u001b[39m=\u001b[39m \u001b[39mself\u001b[39m\u001b[39m.\u001b[39m_maybe_define_function(args, kwargs)\n\u001b[1;32m-> 2496\u001b[0m \u001b[39mreturn\u001b[39;00m graph_function\u001b[39m.\u001b[39;49m_call_flat(\n\u001b[0;32m   2497\u001b[0m     filtered_flat_args, captured_inputs\u001b[39m=\u001b[39;49mgraph_function\u001b[39m.\u001b[39;49mcaptured_inputs)\n",
      "File \u001b[1;32mc:\\Users\\Asus\\anaconda3\\envs\\brain\\lib\\site-packages\\tensorflow\\python\\eager\\function.py:1862\u001b[0m, in \u001b[0;36mConcreteFunction._call_flat\u001b[1;34m(self, args, captured_inputs, cancellation_manager)\u001b[0m\n\u001b[0;32m   1858\u001b[0m possible_gradient_type \u001b[39m=\u001b[39m gradients_util\u001b[39m.\u001b[39mPossibleTapeGradientTypes(args)\n\u001b[0;32m   1859\u001b[0m \u001b[39mif\u001b[39;00m (possible_gradient_type \u001b[39m==\u001b[39m gradients_util\u001b[39m.\u001b[39mPOSSIBLE_GRADIENT_TYPES_NONE\n\u001b[0;32m   1860\u001b[0m     \u001b[39mand\u001b[39;00m executing_eagerly):\n\u001b[0;32m   1861\u001b[0m   \u001b[39m# No tape is watching; skip to running the function.\u001b[39;00m\n\u001b[1;32m-> 1862\u001b[0m   \u001b[39mreturn\u001b[39;00m \u001b[39mself\u001b[39m\u001b[39m.\u001b[39m_build_call_outputs(\u001b[39mself\u001b[39;49m\u001b[39m.\u001b[39;49m_inference_function\u001b[39m.\u001b[39;49mcall(\n\u001b[0;32m   1863\u001b[0m       ctx, args, cancellation_manager\u001b[39m=\u001b[39;49mcancellation_manager))\n\u001b[0;32m   1864\u001b[0m forward_backward \u001b[39m=\u001b[39m \u001b[39mself\u001b[39m\u001b[39m.\u001b[39m_select_forward_and_backward_functions(\n\u001b[0;32m   1865\u001b[0m     args,\n\u001b[0;32m   1866\u001b[0m     possible_gradient_type,\n\u001b[0;32m   1867\u001b[0m     executing_eagerly)\n\u001b[0;32m   1868\u001b[0m forward_function, args_with_tangents \u001b[39m=\u001b[39m forward_backward\u001b[39m.\u001b[39mforward()\n",
      "File \u001b[1;32mc:\\Users\\Asus\\anaconda3\\envs\\brain\\lib\\site-packages\\tensorflow\\python\\eager\\function.py:499\u001b[0m, in \u001b[0;36m_EagerDefinedFunction.call\u001b[1;34m(self, ctx, args, cancellation_manager)\u001b[0m\n\u001b[0;32m    497\u001b[0m \u001b[39mwith\u001b[39;00m _InterpolateFunctionError(\u001b[39mself\u001b[39m):\n\u001b[0;32m    498\u001b[0m   \u001b[39mif\u001b[39;00m cancellation_manager \u001b[39mis\u001b[39;00m \u001b[39mNone\u001b[39;00m:\n\u001b[1;32m--> 499\u001b[0m     outputs \u001b[39m=\u001b[39m execute\u001b[39m.\u001b[39;49mexecute(\n\u001b[0;32m    500\u001b[0m         \u001b[39mstr\u001b[39;49m(\u001b[39mself\u001b[39;49m\u001b[39m.\u001b[39;49msignature\u001b[39m.\u001b[39;49mname),\n\u001b[0;32m    501\u001b[0m         num_outputs\u001b[39m=\u001b[39;49m\u001b[39mself\u001b[39;49m\u001b[39m.\u001b[39;49m_num_outputs,\n\u001b[0;32m    502\u001b[0m         inputs\u001b[39m=\u001b[39;49margs,\n\u001b[0;32m    503\u001b[0m         attrs\u001b[39m=\u001b[39;49mattrs,\n\u001b[0;32m    504\u001b[0m         ctx\u001b[39m=\u001b[39;49mctx)\n\u001b[0;32m    505\u001b[0m   \u001b[39melse\u001b[39;00m:\n\u001b[0;32m    506\u001b[0m     outputs \u001b[39m=\u001b[39m execute\u001b[39m.\u001b[39mexecute_with_cancellation(\n\u001b[0;32m    507\u001b[0m         \u001b[39mstr\u001b[39m(\u001b[39mself\u001b[39m\u001b[39m.\u001b[39msignature\u001b[39m.\u001b[39mname),\n\u001b[0;32m    508\u001b[0m         num_outputs\u001b[39m=\u001b[39m\u001b[39mself\u001b[39m\u001b[39m.\u001b[39m_num_outputs,\n\u001b[1;32m   (...)\u001b[0m\n\u001b[0;32m    511\u001b[0m         ctx\u001b[39m=\u001b[39mctx,\n\u001b[0;32m    512\u001b[0m         cancellation_manager\u001b[39m=\u001b[39mcancellation_manager)\n",
      "File \u001b[1;32mc:\\Users\\Asus\\anaconda3\\envs\\brain\\lib\\site-packages\\tensorflow\\python\\eager\\execute.py:54\u001b[0m, in \u001b[0;36mquick_execute\u001b[1;34m(op_name, num_outputs, inputs, attrs, ctx, name)\u001b[0m\n\u001b[0;32m     52\u001b[0m \u001b[39mtry\u001b[39;00m:\n\u001b[0;32m     53\u001b[0m   ctx\u001b[39m.\u001b[39mensure_initialized()\n\u001b[1;32m---> 54\u001b[0m   tensors \u001b[39m=\u001b[39m pywrap_tfe\u001b[39m.\u001b[39;49mTFE_Py_Execute(ctx\u001b[39m.\u001b[39;49m_handle, device_name, op_name,\n\u001b[0;32m     55\u001b[0m                                       inputs, attrs, num_outputs)\n\u001b[0;32m     56\u001b[0m \u001b[39mexcept\u001b[39;00m core\u001b[39m.\u001b[39m_NotOkStatusException \u001b[39mas\u001b[39;00m e:\n\u001b[0;32m     57\u001b[0m   \u001b[39mif\u001b[39;00m name \u001b[39mis\u001b[39;00m \u001b[39mnot\u001b[39;00m \u001b[39mNone\u001b[39;00m:\n",
      "\u001b[1;31mKeyboardInterrupt\u001b[0m: "
     ]
    }
   ],
   "source": [
    "training.train(callback_list=callback_list)"
   ]
  },
  {
   "cell_type": "code",
   "execution_count": 40,
   "metadata": {},
   "outputs": [],
   "source": [
    "data = trainig_config.data_for_pipeline"
   ]
  },
  {
   "cell_type": "code",
   "execution_count": 57,
   "metadata": {},
   "outputs": [],
   "source": [
    "sample = data.as_numpy_iterator().next()"
   ]
  },
  {
   "cell_type": "code",
   "execution_count": 58,
   "metadata": {},
   "outputs": [
    {
     "data": {
      "image/png": "[encoded data removed]",
      "text/plain": [
       "<Figure size 1200x600 with 2 Axes>"
      ]
     },
     "metadata": {},
     "output_type": "display_data"
    }
   ],
   "source": [
    "sample_image = sample[0]\n",
    "sample_mask  = sample[1]\n",
    "\n",
    "fig, axes = plt.subplots(1, 2, figsize=(12, 6))\n",
    "axes[0].imshow(sample_image[25], cmap='gray')  \n",
    "axes[0].set_title('Sample Image')\n",
    "axes[0].axis('off')  \n",
    "\n",
    "axes[1].imshow(sample_mask[25], cmap='viridis') \n",
    "axes[1].set_title('Sample Mask')\n",
    "axes[1].axis('off')  \n",
    "\n",
    "plt.tight_layout() \n",
    "plt.show()"
   ]
  },
  {
   "cell_type": "code",
   "execution_count": null,
   "metadata": {},
   "outputs": [],
   "source": []
  },
  {
   "cell_type": "code",
   "execution_count": null,
   "metadata": {},
   "outputs": [],
   "source": []
  },
  {
   "cell_type": "code",
   "execution_count": null,
   "metadata": {},
   "outputs": [],
   "source": []
  },
  {
   "cell_type": "code",
   "execution_count": null,
   "metadata": {},
   "outputs": [],
   "source": []
  },
  {
   "cell_type": "code",
   "execution_count": null,
   "metadata": {},
   "outputs": [],
   "source": []
  },
  {
   "cell_type": "code",
   "execution_count": null,
   "metadata": {},
   "outputs": [],
   "source": []
  },
  {
   "cell_type": "code",
   "execution_count": null,
   "metadata": {},
   "outputs": [],
   "source": []
  },
  {
   "cell_type": "code",
   "execution_count": null,
   "metadata": {},
   "outputs": [],
   "source": []
  },
  {
   "cell_type": "code",
   "execution_count": null,
   "metadata": {},
   "outputs": [],
   "source": []
  },
  {
   "cell_type": "code",
   "execution_count": null,
   "metadata": {},
   "outputs": [],
   "source": []
  },
  {
   "cell_type": "code",
   "execution_count": null,
   "metadata": {},
   "outputs": [],
   "source": []
  },
  {
   "cell_type": "code",
   "execution_count": null,
   "metadata": {},
   "outputs": [],
   "source": []
  },
  {
   "cell_type": "code",
   "execution_count": null,
   "metadata": {},
   "outputs": [],
   "source": []
  },
  {
   "cell_type": "code",
   "execution_count": null,
   "metadata": {},
   "outputs": [],
   "source": []
  },
  {
   "cell_type": "code",
   "execution_count": null,
   "metadata": {},
   "outputs": [],
   "source": []
  },
  {
   "cell_type": "code",
   "execution_count": null,
   "metadata": {},
   "outputs": [],
   "source": []
  },
  {
   "cell_type": "code",
   "execution_count": null,
   "metadata": {},
   "outputs": [],
   "source": []
  },
  {
   "cell_type": "code",
   "execution_count": 22,
   "metadata": {},
   "outputs": [],
   "source": [
    "def train_valid_generator(self):\n",
    "        \n",
    "        dataflow_kwargs = dict(\n",
    "            target_size     = self.config.params_mask_size,\n",
    "            batch_size      = self.config.params_batch_size,\n",
    "            interpolation   = \"nearest\")\n",
    "        \n",
    "        test_gen = ImageDataGenerator()\n",
    "\n",
    "        if self.config.params_is_augumentation:\n",
    "            train_gen =ImageDataGenerator(rotation_range      = 30,\n",
    "                                        width_shift_range   = 0.2,  \n",
    "                                        height_shift_range  = 0.2, \n",
    "                                        shear_range         = 0.2,  \n",
    "                                        zoom_range          = 0.2,  \n",
    "                                        horizontal_flip     = True,  \n",
    "                                        vertical_flip       = True,  \n",
    "                                        brightness_range    = (0.5, 1.5), \n",
    "                                        fill_mode           = 'reflect')\n",
    "        else:\n",
    "            train_gen = test_gen()\n",
    "\n",
    "\n",
    "        self.train_data_generator = train_gen.flow(\n",
    "            x = self.get_training_config('train').data_for_pipeline[0],\n",
    "            y = self.get_training_config('train').data_for_pipeline[1],\n",
    "            **dataflow_kwargs,\n",
    "            shuffle=False, \n",
    "        )\n",
    "\n",
    "        self.validation_data_generator = test_gen.flow(\n",
    "            x= self.get_training_config('test').data_for_pipeline[0],\n",
    "            y= self.get_training_config('test').data_for_pipeline[1],  # Replace with your validation labels as a NumPy array\n",
    "            **dataflow_kwargs,\n",
    "            shuffle=False,  \n",
    "        )\n",
    "        \n",
    "\n",
    "    \n",
    "\n",
    "    \n",
    "\n"
   ]
  }
 ],
 "metadata": {
  "kernelspec": {
   "display_name": "brain",
   "language": "python",
   "name": "python3"
  },
  "language_info": {
   "codemirror_mode": {
    "name": "ipython",
    "version": 3
   },
   "file_extension": ".py",
   "mimetype": "text/x-python",
   "name": "python",
   "nbconvert_exporter": "python",
   "pygments_lexer": "ipython3",
   "version": "3.9.18"
  },
  "orig_nbformat": 4
 },
 "nbformat": 4,
 "nbformat_minor": 2
}
