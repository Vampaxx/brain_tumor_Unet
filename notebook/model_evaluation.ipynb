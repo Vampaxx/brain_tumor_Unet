{
 "cells": [
  {
   "cell_type": "code",
   "execution_count": 2,
   "metadata": {},
   "outputs": [],
   "source": [
    "import os"
   ]
  },
  {
   "cell_type": "code",
   "execution_count": 1,
   "metadata": {},
   "outputs": [
    {
     "data": {
      "text/plain": [
       "'c:\\\\Users\\\\Asus\\\\vs_code\\\\brain_tumor_Unet\\\\notebook'"
      ]
     },
     "execution_count": 1,
     "metadata": {},
     "output_type": "execute_result"
    }
   ],
   "source": [
    "%pwd"
   ]
  },
  {
   "cell_type": "code",
   "execution_count": 3,
   "metadata": {},
   "outputs": [],
   "source": [
    "os.chdir(\"../\")"
   ]
  },
  {
   "cell_type": "code",
   "execution_count": 5,
   "metadata": {},
   "outputs": [
    {
     "data": {
      "text/plain": [
       "'c:\\\\Users\\\\Asus\\\\vs_code\\\\brain_tumor_Unet'"
      ]
     },
     "execution_count": 5,
     "metadata": {},
     "output_type": "execute_result"
    }
   ],
   "source": [
    "%pwd"
   ]
  },
  {
   "cell_type": "code",
   "execution_count": 12,
   "metadata": {},
   "outputs": [],
   "source": [
    "import tensorflow as tf\n",
    "from src.brain_tumor.utils.loss_functions import *"
   ]
  },
  {
   "cell_type": "code",
   "execution_count": 14,
   "metadata": {},
   "outputs": [],
   "source": [
    "model = tf.keras.models.load_model(filepath=os.path.join('artifacts','training','model.h5'),\n",
    "                           custom_objects={'dice_coefficient_loss' : dice_coefficient_loss,\n",
    "                                           'iou'                   : iou,\n",
    "                                           'dice_coefficient'      : dice_coefficient})                                            "
   ]
  },
  {
   "cell_type": "code",
   "execution_count": 43,
   "metadata": {},
   "outputs": [],
   "source": [
    "from dataclasses import dataclass\n",
    "from pathlib import Path\n",
    "\n",
    "@dataclass(frozen=True)\n",
    "class EvaluationConfig:\n",
    "    path_of_model       : Path\n",
    "    test_data           : tf.data.Dataset\n",
    "    all_params          : dict\n",
    "    params_image_size   : list\n",
    "    params_mask_size    : list\n",
    "    params_batch_size   : int"
   ]
  },
  {
   "cell_type": "code",
   "execution_count": 34,
   "metadata": {},
   "outputs": [],
   "source": [
    "from src.brain_tumor.components.data_procesing import DataProcessing\n",
    "from src.brain_tumor.utils.common import read_yaml,create_directories,convert_file_into_path,save_json\n",
    "from src.brain_tumor.constants import *\n",
    "from src.brain_tumor.entity.config_entity import (DataIngestionConfig,\n",
    "                                                  PrepareBaseModelConfig,\n",
    "                                                  PrepareCallbacksConfig,\n",
    "                                                  PreprocessingConfig,\n",
    "                                                  TrainigConfig)\n",
    "from src.brain_tumor.utils.loss_functions import *\n"
   ]
  },
  {
   "cell_type": "code",
   "execution_count": 44,
   "metadata": {},
   "outputs": [],
   "source": [
    "class ConfugarationManager:\n",
    "\n",
    "    def __init__(self,\n",
    "                 config_file_path=CONFIG_FILE_PATH,\n",
    "                 params_file_path=PARAMS_FILE_PATH):\n",
    "        \n",
    "        self.config_ = read_yaml(config_file_path)\n",
    "        self.params_ = read_yaml(params_file_path)\n",
    "        create_directories([self.config_.artifacts_root])\n",
    "        \n",
    "        self.data_processing = DataProcessing(config=self.get_data_processing_config())\n",
    "\n",
    "\n",
    "    def get_data_ingestion_config(self) -> DataIngestionConfig:\n",
    "\n",
    "        config_ = self.config_.data_ingestion \n",
    "        create_directories([config_.root_dir])\n",
    "        self.data_ingestion_config = DataIngestionConfig(\n",
    "            train_data_path = Path(config_.train_path),\n",
    "            test_data_path  = Path(config_.test_path), \n",
    "            val_data_path   = Path(config_.val_path),\n",
    "            raw_data_path   = Path(config_.csv_file_path),\n",
    "            image_path      = Path(config_.image_path),\n",
    "            mask_path       = Path(config_.mask_path))\n",
    "            \n",
    "        return self.data_ingestion_config \n",
    "    \n",
    "\n",
    "    def get_prepare_base_model_config(self) -> PrepareBaseModelConfig:\n",
    "\n",
    "        config_ = self.config_.prepare_base_model \n",
    "        create_directories([config_.root_dir])\n",
    "        prepare_base_model_Config   = PrepareBaseModelConfig(\n",
    "            root_dir                = Path (config_.root_dir),\n",
    "            base_model_path         = Path (config_.base_model_path), \n",
    "            updated_base_model_path = Path (config_.updated_base_model_path),\n",
    "            params_image_size       = list (self.params_.IMAGE_SIZE),\n",
    "            params_mask_size        = list (self.params_.MASK_SIZE),\n",
    "            params_learning_rate    = float(self.params_.LEARNING_RATE))\n",
    "                \n",
    "        return prepare_base_model_Config\n",
    "    \n",
    "\n",
    "    def get_data_processing_config(self) -> PreprocessingConfig:\n",
    "        config_                     = self.config_.data_ingestion\n",
    "        self.data_processing_config = PreprocessingConfig(\n",
    "            train_data_path = Path(config_.train_path),\n",
    "            test_data_path  = Path(config_.test_path), \n",
    "            val_data_path   = Path(config_.val_path),\n",
    "            raw_data_path   = Path(config_.csv_file_path),\n",
    "            image_path      = Path(config_.image_path),\n",
    "            mask_path       = Path(config_.mask_path))\n",
    "        return self.data_processing_config\n",
    "    \n",
    "    \n",
    "    def get_prepare_callback_config(self) -> PrepareCallbacksConfig:\n",
    "        config_         = self.config_.prepare_callbacks\n",
    "        model_ckpt_dir  = os.path.dirname(config_.checkpoint_model_filepath)\n",
    "        create_directories([Path(model_ckpt_dir),\n",
    "                            Path(config_.tensorboard_root_log_dir)])\n",
    "        prepare_callbacks_config    = PrepareCallbacksConfig(\n",
    "            root_dir                    = Path(config_.root_dir),\n",
    "            tensorboard_root_log_dir    = Path(config_.tensorboard_root_log_dir),\n",
    "            checkpoint_model_filepath   = Path(config_.checkpoint_model_filepath))\n",
    "        \n",
    "        return prepare_callbacks_config\n",
    "    \n",
    "\n",
    "    def get_training_config(self,dataset_type: str) -> TrainigConfig:\n",
    "        self.dataset_type               = dataset_type\n",
    "        training                        = self.config_.training \n",
    "        prepare_base_model              = self.config_.prepare_base_model\n",
    "        params                          = self.params_\n",
    "        training_image, training_mask   = self.data_processing.get_processing_data_path(self.dataset_type)\n",
    "        create_directories([Path(training.root_dir)])\n",
    "        \n",
    "        training_config                 = TrainigConfig(\n",
    "            root_dir                        = Path(training.root_dir),\n",
    "            trained_model_path              = Path(training.trained_model_path),\n",
    "            updated_base_model_path         = Path(prepare_base_model.updated_base_model_path),\n",
    "            data_for_pipeline               = self.data_processing.get_processing_pipeline(buffer_size=params.BUFFER_SIZE,\n",
    "                                                                                        batch_size=params.BATCH_SIZE),\n",
    "            params_epochs                   = params.EPOCHS,\n",
    "            params_batch_size               = params.BATCH_SIZE,\n",
    "            params_is_augumentation         = params.AUGMENTATION,\n",
    "            params_image_size               = params.IMAGE_SIZE)\n",
    "        \n",
    "        return training_config\n",
    "    def get_validation_config(self) -> EvaluationConfig:\n",
    "        trainig         = self.config_.training \n",
    "        self.data_processing.get_processing_data_path(dataset_type='test')\n",
    "        \n",
    "        eval_config     = EvaluationConfig(\n",
    "            path_of_model       = Path(trainig.trained_model_path),\n",
    "            test_data           = self.data_processing.get_processing_pipeline(buffer_size=self.params_.BUFFER_SIZE,\n",
    "                                                                           batch_size=self.params_.BATCH_SIZE),\n",
    "            all_params          = self.params_,\n",
    "            params_image_size   = self.params_.IMAGE_SIZE,\n",
    "            params_mask_size    = self.params_.MASK_SIZE,\n",
    "            params_batch_size   = self.params_.BATCH_SIZE\n",
    "        )\n",
    "        return eval_config"
   ]
  },
  {
   "cell_type": "code",
   "execution_count": 49,
   "metadata": {},
   "outputs": [],
   "source": [
    "class Evaluation:\n",
    "\n",
    "    def __init__(self,config : EvaluationConfig) :\n",
    "        self.config     = config\n",
    "\n",
    "    @staticmethod\n",
    "    def load_model(path:Path) -> tf.keras.models:\n",
    "        return tf.keras.models.load_model(filepath=path,\n",
    "                                          custom_objects={'dice_coefficient_loss' : dice_coefficient_loss,\n",
    "                                                          'iou'                   : iou,\n",
    "                                                          'dice_coefficient'      : dice_coefficient})    \n",
    "    \n",
    "    \n",
    "    def evaluation(self):\n",
    "        self.model      = self.load_model(self.config.path_of_model)\n",
    "        self.score      = self.model.evaluate(self.config.test_data)\n",
    "    \n",
    "    def save_score(self):\n",
    "        scores  = { 'loss'              : self.score[0],\n",
    "                   'binary_accuracy'    : self.score[1],\n",
    "                    'iou'               : self.score[2],\n",
    "                    'dice_coefficient'  : self.score[3] }\n",
    "        save_json(path=Path(\"scores.json\"),data=scores)"
   ]
  },
  {
   "cell_type": "code",
   "execution_count": 51,
   "metadata": {},
   "outputs": [
    {
     "name": "stdout",
     "output_type": "stream",
     "text": [
      "23/23 [==============================] - 5s 180ms/step - loss: -0.9384 - binary_accuracy: 0.9992 - iou: 0.8856 - dice_coefficient: 0.9373\n"
     ]
    }
   ],
   "source": [
    "config = ConfugarationManager()\n",
    "validation_config = config.get_validation_config()\n",
    "evaluation = Evaluation(validation_config)\n",
    "evaluation.evaluation()\n",
    "evaluation.save_score()"
   ]
  },
  {
   "cell_type": "code",
   "execution_count": null,
   "metadata": {},
   "outputs": [],
   "source": []
  }
 ],
 "metadata": {
  "kernelspec": {
   "display_name": "brain",
   "language": "python",
   "name": "python3"
  },
  "language_info": {
   "codemirror_mode": {
    "name": "ipython",
    "version": 3
   },
   "file_extension": ".py",
   "mimetype": "text/x-python",
   "name": "python",
   "nbconvert_exporter": "python",
   "pygments_lexer": "ipython3",
   "version": "3.9.18"
  },
  "orig_nbformat": 4
 },
 "nbformat": 4,
 "nbformat_minor": 2
}
