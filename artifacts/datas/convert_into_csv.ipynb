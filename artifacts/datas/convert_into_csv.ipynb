{
 "cells": [
  {
   "cell_type": "code",
   "execution_count": 2,
   "id": "b7f64608",
   "metadata": {},
   "outputs": [],
   "source": [
    "import os\n",
    "import pandas as pd\n",
    "import numpy as np\n",
    "import csv"
   ]
  },
  {
   "cell_type": "code",
   "execution_count": 3,
   "id": "29bb4cfe",
   "metadata": {},
   "outputs": [],
   "source": [
    "files = os.listdir('image')"
   ]
  },
  {
   "cell_type": "code",
   "execution_count": 10,
   "id": "d624b280",
   "metadata": {},
   "outputs": [],
   "source": [
    "data = []\n",
    "\n",
    "for filename in files:\n",
    "    if filename.endswith(\".tif\"):\n",
    "        image_name = filename\n",
    "        mask_name = filename.replace('.tif', '_mask.tif')\n",
    "        data.append([image_name, mask_name])\n",
    "\n",
    "csv_file = 'file_mapping.csv'\n",
    "with open(csv_file, 'w', newline='') as csvfile:\n",
    "    csv_writer = csv.writer(csvfile)\n",
    "    csv_writer.writerow([\"image_name\", \"mask_name\"])\n",
    "    csv_writer.writerows(data)"
   ]
  },
  {
   "cell_type": "code",
   "execution_count": 11,
   "id": "d4d91f86",
   "metadata": {},
   "outputs": [
    {
     "data": {
      "text/html": [
       "<div>\n",
       "<style scoped>\n",
       "    .dataframe tbody tr th:only-of-type {\n",
       "        vertical-align: middle;\n",
       "    }\n",
       "\n",
       "    .dataframe tbody tr th {\n",
       "        vertical-align: top;\n",
       "    }\n",
       "\n",
       "    .dataframe thead th {\n",
       "        text-align: right;\n",
       "    }\n",
       "</style>\n",
       "<table border=\"1\" class=\"dataframe\">\n",
       "  <thead>\n",
       "    <tr style=\"text-align: right;\">\n",
       "      <th></th>\n",
       "      <th>image_name</th>\n",
       "      <th>mask_name</th>\n",
       "    </tr>\n",
       "  </thead>\n",
       "  <tbody>\n",
       "    <tr>\n",
       "      <th>0</th>\n",
       "      <td>TCGA_CS_4941_19960909_1.tif</td>\n",
       "      <td>TCGA_CS_4941_19960909_1_mask.tif</td>\n",
       "    </tr>\n",
       "    <tr>\n",
       "      <th>1</th>\n",
       "      <td>TCGA_CS_4941_19960909_10.tif</td>\n",
       "      <td>TCGA_CS_4941_19960909_10_mask.tif</td>\n",
       "    </tr>\n",
       "    <tr>\n",
       "      <th>2</th>\n",
       "      <td>TCGA_CS_4941_19960909_11.tif</td>\n",
       "      <td>TCGA_CS_4941_19960909_11_mask.tif</td>\n",
       "    </tr>\n",
       "    <tr>\n",
       "      <th>3</th>\n",
       "      <td>TCGA_CS_4941_19960909_12.tif</td>\n",
       "      <td>TCGA_CS_4941_19960909_12_mask.tif</td>\n",
       "    </tr>\n",
       "    <tr>\n",
       "      <th>4</th>\n",
       "      <td>TCGA_CS_4941_19960909_13.tif</td>\n",
       "      <td>TCGA_CS_4941_19960909_13_mask.tif</td>\n",
       "    </tr>\n",
       "    <tr>\n",
       "      <th>...</th>\n",
       "      <td>...</td>\n",
       "      <td>...</td>\n",
       "    </tr>\n",
       "    <tr>\n",
       "      <th>3924</th>\n",
       "      <td>TCGA_HT_A61B_19991127_85.tif</td>\n",
       "      <td>TCGA_HT_A61B_19991127_85_mask.tif</td>\n",
       "    </tr>\n",
       "    <tr>\n",
       "      <th>3925</th>\n",
       "      <td>TCGA_HT_A61B_19991127_86.tif</td>\n",
       "      <td>TCGA_HT_A61B_19991127_86_mask.tif</td>\n",
       "    </tr>\n",
       "    <tr>\n",
       "      <th>3926</th>\n",
       "      <td>TCGA_HT_A61B_19991127_87.tif</td>\n",
       "      <td>TCGA_HT_A61B_19991127_87_mask.tif</td>\n",
       "    </tr>\n",
       "    <tr>\n",
       "      <th>3927</th>\n",
       "      <td>TCGA_HT_A61B_19991127_88.tif</td>\n",
       "      <td>TCGA_HT_A61B_19991127_88_mask.tif</td>\n",
       "    </tr>\n",
       "    <tr>\n",
       "      <th>3928</th>\n",
       "      <td>TCGA_HT_A61B_19991127_9.tif</td>\n",
       "      <td>TCGA_HT_A61B_19991127_9_mask.tif</td>\n",
       "    </tr>\n",
       "  </tbody>\n",
       "</table>\n",
       "<p>3929 rows × 2 columns</p>\n",
       "</div>"
      ],
      "text/plain": [
       "                        image_name                          mask_name\n",
       "0      TCGA_CS_4941_19960909_1.tif   TCGA_CS_4941_19960909_1_mask.tif\n",
       "1     TCGA_CS_4941_19960909_10.tif  TCGA_CS_4941_19960909_10_mask.tif\n",
       "2     TCGA_CS_4941_19960909_11.tif  TCGA_CS_4941_19960909_11_mask.tif\n",
       "3     TCGA_CS_4941_19960909_12.tif  TCGA_CS_4941_19960909_12_mask.tif\n",
       "4     TCGA_CS_4941_19960909_13.tif  TCGA_CS_4941_19960909_13_mask.tif\n",
       "...                            ...                                ...\n",
       "3924  TCGA_HT_A61B_19991127_85.tif  TCGA_HT_A61B_19991127_85_mask.tif\n",
       "3925  TCGA_HT_A61B_19991127_86.tif  TCGA_HT_A61B_19991127_86_mask.tif\n",
       "3926  TCGA_HT_A61B_19991127_87.tif  TCGA_HT_A61B_19991127_87_mask.tif\n",
       "3927  TCGA_HT_A61B_19991127_88.tif  TCGA_HT_A61B_19991127_88_mask.tif\n",
       "3928   TCGA_HT_A61B_19991127_9.tif   TCGA_HT_A61B_19991127_9_mask.tif\n",
       "\n",
       "[3929 rows x 2 columns]"
      ]
     },
     "execution_count": 11,
     "metadata": {},
     "output_type": "execute_result"
    }
   ],
   "source": [
    "pd.read_csv('file_mapping.csv')"
   ]
  },
  {
   "cell_type": "code",
   "execution_count": 7,
   "id": "5328d289",
   "metadata": {},
   "outputs": [
    {
     "ename": "FileNotFoundError",
     "evalue": "[Errno 2] No such file or directory: 'artifacts\\\\datas\\\\convert_into_csv.csv'",
     "output_type": "error",
     "traceback": [
      "\u001b[1;31m---------------------------------------------------------------------------\u001b[0m",
      "\u001b[1;31mFileNotFoundError\u001b[0m                         Traceback (most recent call last)",
      "\u001b[1;32mc:\\Users\\Asus\\vs_code\\brain_tumor_Unet\\artifacts\\datas\\convert_into_csv.ipynb Cell 4\u001b[0m line \u001b[0;36m1\n\u001b[0;32m      <a href='vscode-notebook-cell:/c%3A/Users/Asus/vs_code/brain_tumor_Unet/artifacts/datas/convert_into_csv.ipynb#W2sZmlsZQ%3D%3D?line=6'>7</a>\u001b[0m         mask_name \u001b[39m=\u001b[39m filename\u001b[39m.\u001b[39mreplace(\u001b[39m\"\u001b[39m\u001b[39m.tif\u001b[39m\u001b[39m\"\u001b[39m, \u001b[39m\"\u001b[39m\u001b[39m_mask.tif\u001b[39m\u001b[39m\"\u001b[39m)\n\u001b[0;32m      <a href='vscode-notebook-cell:/c%3A/Users/Asus/vs_code/brain_tumor_Unet/artifacts/datas/convert_into_csv.ipynb#W2sZmlsZQ%3D%3D?line=7'>8</a>\u001b[0m         image_mask_pairs\u001b[39m.\u001b[39mappend([image_name, mask_name])\n\u001b[1;32m---> <a href='vscode-notebook-cell:/c%3A/Users/Asus/vs_code/brain_tumor_Unet/artifacts/datas/convert_into_csv.ipynb#W2sZmlsZQ%3D%3D?line=9'>10</a>\u001b[0m \u001b[39mwith\u001b[39;00m \u001b[39mopen\u001b[39;49m(a, \u001b[39m'\u001b[39;49m\u001b[39mw\u001b[39;49m\u001b[39m'\u001b[39;49m, newline\u001b[39m=\u001b[39;49m\u001b[39m'\u001b[39;49m\u001b[39m'\u001b[39;49m) \u001b[39mas\u001b[39;00m csv_file:\n\u001b[0;32m     <a href='vscode-notebook-cell:/c%3A/Users/Asus/vs_code/brain_tumor_Unet/artifacts/datas/convert_into_csv.ipynb#W2sZmlsZQ%3D%3D?line=10'>11</a>\u001b[0m     csv_writer \u001b[39m=\u001b[39m csv\u001b[39m.\u001b[39mwriter(csv_file)\n\u001b[0;32m     <a href='vscode-notebook-cell:/c%3A/Users/Asus/vs_code/brain_tumor_Unet/artifacts/datas/convert_into_csv.ipynb#W2sZmlsZQ%3D%3D?line=11'>12</a>\u001b[0m     \u001b[39mif\u001b[39;00m os\u001b[39m.\u001b[39mstat(a)\u001b[39m.\u001b[39mst_size \u001b[39m==\u001b[39m \u001b[39m0\u001b[39m:\n",
      "File \u001b[1;32mc:\\Users\\Asus\\anaconda3\\envs\\brain\\lib\\site-packages\\IPython\\core\\interactiveshell.py:286\u001b[0m, in \u001b[0;36m_modified_open\u001b[1;34m(file, *args, **kwargs)\u001b[0m\n\u001b[0;32m    279\u001b[0m \u001b[39mif\u001b[39;00m file \u001b[39min\u001b[39;00m {\u001b[39m0\u001b[39m, \u001b[39m1\u001b[39m, \u001b[39m2\u001b[39m}:\n\u001b[0;32m    280\u001b[0m     \u001b[39mraise\u001b[39;00m \u001b[39mValueError\u001b[39;00m(\n\u001b[0;32m    281\u001b[0m         \u001b[39mf\u001b[39m\u001b[39m\"\u001b[39m\u001b[39mIPython won\u001b[39m\u001b[39m'\u001b[39m\u001b[39mt let you open fd=\u001b[39m\u001b[39m{\u001b[39;00mfile\u001b[39m}\u001b[39;00m\u001b[39m by default \u001b[39m\u001b[39m\"\u001b[39m\n\u001b[0;32m    282\u001b[0m         \u001b[39m\"\u001b[39m\u001b[39mas it is likely to crash IPython. If you know what you are doing, \u001b[39m\u001b[39m\"\u001b[39m\n\u001b[0;32m    283\u001b[0m         \u001b[39m\"\u001b[39m\u001b[39myou can use builtins\u001b[39m\u001b[39m'\u001b[39m\u001b[39m open.\u001b[39m\u001b[39m\"\u001b[39m\n\u001b[0;32m    284\u001b[0m     )\n\u001b[1;32m--> 286\u001b[0m \u001b[39mreturn\u001b[39;00m io_open(file, \u001b[39m*\u001b[39margs, \u001b[39m*\u001b[39m\u001b[39m*\u001b[39mkwargs)\n",
      "\u001b[1;31mFileNotFoundError\u001b[0m: [Errno 2] No such file or directory: 'artifacts\\\\datas\\\\convert_into_csv.csv'"
     ]
    }
   ],
   "source": [
    "'''image_mask_pairs = []\n",
    "\n",
    "\n",
    "for filename in files:\n",
    "    if filename.endswith(\".tif\"):\n",
    "        image_name = filename\n",
    "        mask_name = filename.replace(\".tif\", \"_mask.tif\")\n",
    "        image_mask_pairs.append([image_name, mask_name])\n",
    "\n",
    "with open(csv_file_path, 'w', newline='') as csv_file:\n",
    "    csv_writer = csv.writer(csv_file)\n",
    "    if os.stat(csv_file_path).st_size == 0:\n",
    "        csv_writer.writerow(['image_name', 'mask_name'])\n",
    "    csv_writer.writerows(image_mask_pairs)'''"
   ]
  }
 ],
 "metadata": {
  "kernelspec": {
   "display_name": "Python 3 (ipykernel)",
   "language": "python",
   "name": "python3"
  },
  "language_info": {
   "codemirror_mode": {
    "name": "ipython",
    "version": 3
   },
   "file_extension": ".py",
   "mimetype": "text/x-python",
   "name": "python",
   "nbconvert_exporter": "python",
   "pygments_lexer": "ipython3",
   "version": "3.9.18"
  }
 },
 "nbformat": 4,
 "nbformat_minor": 5
}
